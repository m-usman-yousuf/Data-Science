{
  "nbformat": 4,
  "nbformat_minor": 0,
  "metadata": {
    "colab": {
      "name": "spark.ipynb",
      "provenance": [],
      "collapsed_sections": []
    },
    "kernelspec": {
      "display_name": "Python 3",
      "language": "python",
      "name": "python3"
    },
    "language_info": {
      "codemirror_mode": {
        "name": "ipython",
        "version": 3
      },
      "file_extension": ".py",
      "mimetype": "text/x-python",
      "name": "python",
      "nbconvert_exporter": "python",
      "pygments_lexer": "ipython3",
      "version": "3.7.6"
    }
  },
  "cells": [
    {
      "cell_type": "markdown",
      "metadata": {
        "id": "RYMJH-Bt79ig"
      },
      "source": [
        "# ICT707 Task 3 - Part 1 \n",
        "\n",
        "\n",
        "### Instructions\n",
        "\n",
        "* Follow instructions on 'Google Colab for Task3.doc' for running this notebook:\n",
        "\n",
        "\n",
        "* 1.\tVisit and log in to Google Colab site: https://colab.research.google.com/\n",
        "* 2.\tDownload this notebook from Blackboard and then upload it to Colab\n",
        "* 3. \tRun “PySpark Environment Setting” cell to get spark and pySpark installed.\n",
        "* 4.\tType in your NAME and ID in the first coding cell.\n",
        "* 5.\tPlace the data files on the correct GDrive folder - 'Colab Notebooks'.\n",
        "* 6. \tRun the first cell of “Connect GDrive for data set files” to mount GDrive as the storage of data files. Follow the instruction to complete the authorization of using GDrive. \n",
        "* 7.    Run Imports\n",
        "* 8.    Create Spark Session\n",
        "* 9.    Load CSV file and test\n",
        "\n",
        "* **After you finish, make sure all cells are executed. Go to menu \"File->Download .ipynb\" to download your work as 2 files: (1) a Jupyter notebook file and (2) a HTML file. And then submit both files to Blackboard.**\n",
        "\n",
        "* If you see any error related to spark context, please **run the last cell** and then retry. Or reload the notebook and install the PySpark environment."
      ]
    },
    {
      "cell_type": "markdown",
      "metadata": {
        "id": "1Vk1-RGB79iv"
      },
      "source": [
        "## 0 Task 3 Setup\n",
        "### 1 PySpark Environment Setting"
      ]
    },
    {
      "cell_type": "code",
      "metadata": {
        "colab": {
          "base_uri": "https://localhost:8080/"
        },
        "id": "LoRLSnOtBXzn",
        "outputId": "84293898-d864-46ea-a814-158bb3190a64"
      },
      "source": [
        "# Please run this cell to get Java and spark installed\n",
        "!apt-get update\n",
        "!apt-get install openjdk-8-jdk-headless -qq > /dev/null\n",
        "!wget -q https://archive.apache.org/dist/spark/spark-2.4.7/spark-2.4.7-bin-hadoop2.7.tgz\n",
        "!tar xf spark-2.4.7-bin-hadoop2.7.tgz\n",
        "!pip install pyspark==2.4.7\n",
        "\n",
        "import os\n",
        "os.environ[\"JAVA_HOME\"] = \"/usr/lib/jvm/java-8-openjdk-amd64\"\n",
        "os.environ[\"SPARK_HOME\"] = \"/content/spark-2.4.7-bin-hadoop2.7\"\n"
      ],
      "execution_count": 1,
      "outputs": [
        {
          "output_type": "stream",
          "name": "stdout",
          "text": [
            "Get:1 http://security.ubuntu.com/ubuntu bionic-security InRelease [88.7 kB]\n",
            "Get:2 https://cloud.r-project.org/bin/linux/ubuntu bionic-cran40/ InRelease [3,626 B]\n",
            "Ign:3 https://developer.download.nvidia.com/compute/cuda/repos/ubuntu1804/x86_64  InRelease\n",
            "Hit:4 http://archive.ubuntu.com/ubuntu bionic InRelease\n",
            "Hit:5 http://ppa.launchpad.net/c2d4u.team/c2d4u4.0+/ubuntu bionic InRelease\n",
            "Ign:6 https://developer.download.nvidia.com/compute/machine-learning/repos/ubuntu1804/x86_64  InRelease\n",
            "Hit:7 https://developer.download.nvidia.com/compute/cuda/repos/ubuntu1804/x86_64  Release\n",
            "Hit:8 https://developer.download.nvidia.com/compute/machine-learning/repos/ubuntu1804/x86_64  Release\n",
            "Get:9 http://archive.ubuntu.com/ubuntu bionic-updates InRelease [88.7 kB]\n",
            "Hit:10 http://ppa.launchpad.net/cran/libgit2/ubuntu bionic InRelease\n",
            "Get:11 http://security.ubuntu.com/ubuntu bionic-security/main amd64 Packages [2,367 kB]\n",
            "Hit:12 http://ppa.launchpad.net/deadsnakes/ppa/ubuntu bionic InRelease\n",
            "Get:13 http://security.ubuntu.com/ubuntu bionic-security/universe amd64 Packages [1,431 kB]\n",
            "Get:14 http://archive.ubuntu.com/ubuntu bionic-backports InRelease [74.6 kB]\n",
            "Get:15 http://security.ubuntu.com/ubuntu bionic-security/restricted amd64 Packages [607 kB]\n",
            "Hit:16 http://ppa.launchpad.net/graphics-drivers/ppa/ubuntu bionic InRelease\n",
            "Get:19 http://archive.ubuntu.com/ubuntu bionic-updates/universe amd64 Packages [2,210 kB]\n",
            "Get:20 http://archive.ubuntu.com/ubuntu bionic-updates/main amd64 Packages [2,803 kB]\n",
            "Get:21 http://archive.ubuntu.com/ubuntu bionic-updates/restricted amd64 Packages [640 kB]\n",
            "Fetched 10.3 MB in 3s (3,295 kB/s)\n",
            "Reading package lists... Done\n",
            "Collecting pyspark==2.4.7\n",
            "  Downloading pyspark-2.4.7.tar.gz (217.9 MB)\n",
            "\u001b[K     |████████████████████████████████| 217.9 MB 58 kB/s \n",
            "\u001b[?25hCollecting py4j==0.10.7\n",
            "  Downloading py4j-0.10.7-py2.py3-none-any.whl (197 kB)\n",
            "\u001b[K     |████████████████████████████████| 197 kB 50.6 MB/s \n",
            "\u001b[?25hBuilding wheels for collected packages: pyspark\n",
            "  Building wheel for pyspark (setup.py) ... \u001b[?25l\u001b[?25hdone\n",
            "  Created wheel for pyspark: filename=pyspark-2.4.7-py2.py3-none-any.whl size=218279466 sha256=20783db733c8d65cdec2fdc45735587198420d65ea83d5a2350b69ce4ca2a580\n",
            "  Stored in directory: /root/.cache/pip/wheels/da/28/74/56054e5fe3413c8c58b67e4d7483d4864fe483920c9b8ec754\n",
            "Successfully built pyspark\n",
            "Installing collected packages: py4j, pyspark\n",
            "Successfully installed py4j-0.10.7 pyspark-2.4.7\n"
          ]
        }
      ]
    },
    {
      "cell_type": "markdown",
      "metadata": {
        "id": "NvM8BABk79iz"
      },
      "source": [
        "###  Add data file"
      ]
    },
    {
      "cell_type": "code",
      "metadata": {
        "id": "KWEmbkN779i0"
      },
      "source": [
        "# Make sure you have relevant data files uploaded, replace 'text_file_name.csv' with your csv file\n",
        "# And then use the correct data file names below\n",
        "datafile = \"/content/gdrive/My Drive/Colab Notebooks/police_killings.csv\""
      ],
      "execution_count": 2,
      "outputs": []
    },
    {
      "cell_type": "markdown",
      "metadata": {
        "id": "OF2ByTgJBnIE"
      },
      "source": [
        "###  Connect GDrive for data set files"
      ]
    },
    {
      "cell_type": "code",
      "metadata": {
        "colab": {
          "base_uri": "https://localhost:8080/"
        },
        "id": "muPOGMTfBr2s",
        "outputId": "aa1f7a27-971d-45a9-d447-c87203cc5a6a"
      },
      "source": [
        "# Mount the cloud folder for data file storage\n",
        "from google.colab import drive\n",
        "drive.mount('/content/gdrive')\n"
      ],
      "execution_count": 3,
      "outputs": [
        {
          "output_type": "stream",
          "name": "stdout",
          "text": [
            "Mounted at /content/gdrive\n"
          ]
        }
      ]
    },
    {
      "cell_type": "markdown",
      "metadata": {
        "id": "sTWCi_Lj79i3"
      },
      "source": [
        "###  Run Imports"
      ]
    },
    {
      "cell_type": "code",
      "metadata": {
        "id": "zuGh_9Ek79i4"
      },
      "source": [
        "# Imports utilised\n",
        "from pyspark.sql import SparkSession\n",
        "from pyspark.ml.recommendation import ALS\n",
        "from pyspark.ml.feature import VectorAssembler\n",
        "from pyspark.ml.classification import LogisticRegression \n",
        "from pyspark.ml.evaluation import RegressionEvaluator\n",
        "import pandas as pd\n",
        "import matplotlib.pyplot as plt "
      ],
      "execution_count": 4,
      "outputs": []
    },
    {
      "cell_type": "markdown",
      "metadata": {
        "id": "33U2tN1H79i5"
      },
      "source": [
        "###  Create Spark Session"
      ]
    },
    {
      "cell_type": "code",
      "metadata": {
        "id": "eQhHiCD079i6"
      },
      "source": [
        "# Create Spark Session\n",
        "\n",
        "sc = SparkSession.builder\\\n",
        "        .master('local[*]') \\\n",
        "        .appName('ICT707_Task3') \\\n",
        "        .getOrCreate()\n"
      ],
      "execution_count": 5,
      "outputs": []
    },
    {
      "cell_type": "markdown",
      "metadata": {
        "id": "uH9y8ZPm79i7"
      },
      "source": [
        "###  Load CSV File"
      ]
    },
    {
      "cell_type": "code",
      "metadata": {
        "colab": {
          "base_uri": "https://localhost:8080/"
        },
        "id": "IxrL34e0BVNw",
        "outputId": "57b5d7a2-1fb4-4c0f-c856-ed94925485c4"
      },
      "source": [
        "# file should display the head() records without errors \n",
        "# Loading csv file for PySpark and Python 3\n",
        "data = sc.read.csv(datafile, inferSchema = True, header = True)\n",
        "data.head()"
      ],
      "execution_count": 6,
      "outputs": [
        {
          "output_type": "execute_result",
          "data": {
            "text/plain": [
              "Row(name=\"A'donte Washington\", age=16, gender='Male', raceethnicity='Black', month='February', day=23, year=2015, city='Millbrook', state='AL', state_fp=1, county_fp=51, tract_ce=30902, county_id=1051, share_white=60.5, share_black=30.5, comp_income=0.937935946)"
            ]
          },
          "metadata": {},
          "execution_count": 6
        }
      ]
    },
    {
      "cell_type": "markdown",
      "metadata": {
        "id": "QQqKWtAoBVN2"
      },
      "source": [
        "## 1 Exploratory Data Analysis\n",
        "##### • telling its number of rows and columns,\n",
        "##### • doing the data cleaning (missing values or duplicated records) if necessary\n",
        "##### • selecting 3 columns, and drawing 1 plot (e.g. bar chart, histogram, boxplot, etc.) for each to summarise it"
      ]
    },
    {
      "cell_type": "code",
      "metadata": {
        "id": "Qre3g_psBVN3"
      },
      "source": [
        "# To be able to visualise the data, the dataframe must be transferred to pandas\n",
        "data_pandas = data.toPandas()"
      ],
      "execution_count": 7,
      "outputs": []
    },
    {
      "cell_type": "markdown",
      "metadata": {
        "id": "6gyz7n2r79i-"
      },
      "source": [
        "### 1.1 EDA - Description"
      ]
    },
    {
      "cell_type": "code",
      "metadata": {
        "id": "J7cdM7X579i-",
        "colab": {
          "base_uri": "https://localhost:8080/"
        },
        "outputId": "53309f7e-3b99-43d4-c3e7-dca7c8638031"
      },
      "source": [
        "# telling its number of rows and columns,\n",
        "\n",
        "no_rows = data.count()\n",
        "print(\"Number of rows are: \", no_rows)\n",
        "\n",
        "no_cols = len(data.columns)\n",
        "print('Number of Columns are: ', no_cols)"
      ],
      "execution_count": 8,
      "outputs": [
        {
          "output_type": "stream",
          "name": "stdout",
          "text": [
            "Number of rows are:  39\n",
            "Number of Columns are:  16\n"
          ]
        }
      ]
    },
    {
      "cell_type": "markdown",
      "metadata": {
        "id": "uIGGWhLu79i_"
      },
      "source": [
        "### 1.2 EDA - Cleaning"
      ]
    },
    {
      "cell_type": "code",
      "metadata": {
        "id": "ruE8qjOW79i_",
        "colab": {
          "base_uri": "https://localhost:8080/"
        },
        "outputId": "9f1aa40d-5496-49db-eb21-d58a3962e3cb"
      },
      "source": [
        "# doing the data cleaning (missing values or duplicated records) if necessary\n",
        "\n",
        "df1 = data.groupby([\"name\", \"age\", \"gender\", \"raceethnicity\", \"month\", \"day\", \"year\", \"city\", \"state\", \"state_fp\", \"county_fp\", \"tract_ce\", \"county_id\", \"share_white\", \"share_black\", \"comp_income\"]).count().filter(\"count > 1\")\n",
        "print(\"Number of Duplicated rows: \", df1.count())"
      ],
      "execution_count": 9,
      "outputs": [
        {
          "output_type": "stream",
          "name": "stdout",
          "text": [
            "Number of Duplicated rows:  0\n"
          ]
        }
      ]
    },
    {
      "cell_type": "markdown",
      "metadata": {
        "id": "VXA-5CWQ79jA"
      },
      "source": [
        "### 1.3 EDA - Graphs"
      ]
    },
    {
      "cell_type": "code",
      "metadata": {
        "id": "1CwM96-U79jB",
        "colab": {
          "base_uri": "https://localhost:8080/",
          "height": 295
        },
        "outputId": "4b30e775-7dfd-466d-903a-1fd65cb9451f"
      },
      "source": [
        "#selecting 3 columns, and drawing 1 plot (e.g. bar chart, histogram, boxplot, etc.) for each to summarise it\n",
        "# graph 1\n",
        "\n",
        "#import pandas\n",
        "import matplotlib.pyplot as plt\n",
        "\n",
        "plt.hist(data_pandas[\"age\"], bins =[0,10,20,30,40,50,60,70,80],  histtype=\"bar\")\n",
        "plt.xlabel(\"Age Groups\")\n",
        "plt.ylabel(\"No. of killing done by police\")\n",
        "plt.title(\"Most Killings in an age group\")\n",
        "plt.show()"
      ],
      "execution_count": 10,
      "outputs": [
        {
          "output_type": "display_data",
          "data": {
            "image/png": "[encoded data removed]",
            "text/plain": [
              "<Figure size 432x288 with 1 Axes>"
            ]
          },
          "metadata": {
            "needs_background": "light"
          }
        }
      ]
    },
    {
      "cell_type": "code",
      "metadata": {
        "id": "P_lIWAMu79jB",
        "colab": {
          "base_uri": "https://localhost:8080/",
          "height": 295
        },
        "outputId": "bc693824-54b9-482d-8264-ea62718ec38f"
      },
      "source": [
        "# graph 2\n",
        "\n",
        "plt.bar(data_pandas[\"month\"].unique(), data_pandas['month'].count())\n",
        "plt.xlabel(\"Months\")\n",
        "plt.ylabel(\"Number of Killing\")\n",
        "plt.title(\"Most Number of Killings in Each Month\")\n",
        "plt.show()"
      ],
      "execution_count": 11,
      "outputs": [
        {
          "output_type": "display_data",
          "data": {
            "image/png": "[encoded data removed]",
            "text/plain": [
              "<Figure size 432x288 with 1 Axes>"
            ]
          },
          "metadata": {
            "needs_background": "light"
          }
        }
      ]
    },
    {
      "cell_type": "code",
      "metadata": {
        "id": "MSVrpsMN79jC",
        "colab": {
          "base_uri": "https://localhost:8080/",
          "height": 295
        },
        "outputId": "c68312e0-9778-4564-9231-cfacc85efd11"
      },
      "source": [
        "# graph 3\n",
        "\n",
        "plt.boxplot(data_pandas['day'], vert=False)\n",
        "plt.xlabel(\"Dates\")\n",
        "plt.title(\"Graph showing on which dates most poeple were killed\")\n",
        "plt.show()"
      ],
      "execution_count": 12,
      "outputs": [
        {
          "output_type": "display_data",
          "data": {
            "image/png": "[encoded data removed]",
            "text/plain": [
              "<Figure size 432x288 with 1 Axes>"
            ]
          },
          "metadata": {
            "needs_background": "light"
          }
        }
      ]
    },
    {
      "cell_type": "markdown",
      "metadata": {
        "id": "LKr7mPK379jC"
      },
      "source": [
        "## 2 Recommendation Engine\n",
        "#### This subtask requires you to implement a recommender system on Collaborative filtering with Alternative Least Squares Algorithm. \n",
        "#### You need to include\n",
        "##### • Model training and predictions\n",
        "##### • Model evaluation using MSE"
      ]
    },
    {
      "cell_type": "code",
      "metadata": {
        "id": "r1Ua808M79jD"
      },
      "source": [
        "# Splitting the data into Training and Test data that is used for both Task I.2 and Task I.3\n",
        "# hint: training_data, testing_data = data.randomSplit([???,???])\n",
        "\n",
        "training, test = data.randomSplit([0.7, 0.3])"
      ],
      "execution_count": 13,
      "outputs": []
    },
    {
      "cell_type": "code",
      "metadata": {
        "colab": {
          "base_uri": "https://localhost:8080/"
        },
        "id": "uH3ks-5L79jD",
        "outputId": "f98fbe33-171b-493e-f150-d1c4aaf6834c"
      },
      "source": [
        "#Recommendation system using Alternative Least Squares Algorithm\n",
        "# hint: als = ALS(maxIter=??,regParam=??,userCol = \"???\", itemCol = \"???\", ratingCol = \"???\", coldStartStrategy = \"???\")\n",
        "# hint: model = als.fit(???)\n",
        "als=ALS(maxIter=5,regParam=5,userCol=\"age\",itemCol=\"state_fp\",ratingCol=\"year\",coldStartStrategy=\"drop\")\n",
        "model=als.fit(training)\n",
        "model.recommendForAllUsers(4).show()"
      ],
      "execution_count": 14,
      "outputs": [
        {
          "output_type": "stream",
          "name": "stdout",
          "text": [
            "+---+--------------------+\n",
            "|age|     recommendations|\n",
            "+---+--------------------+\n",
            "| 31|[[18, 2014.8064],...|\n",
            "| 76|[[12, 2080.7507],...|\n",
            "| 26|[[12, 2036.6925],...|\n",
            "| 27|[[13, 2014.499], ...|\n",
            "| 44|[[48, 2014.7528],...|\n",
            "| 22|[[12, 2080.7507],...|\n",
            "| 16|[[1, 2014.6816], ...|\n",
            "| 57|[[12, 2080.7507],...|\n",
            "| 54|[[51, 2014.8064],...|\n",
            "| 48|[[12, 2014.8066],...|\n",
            "| 41|[[13, 2014.7532],...|\n",
            "| 39|[[47, 2014.8064],...|\n",
            "| 25|[[13, 2014.499], ...|\n",
            "| 29|[[4, 2014.8066], ...|\n",
            "| 21|[[12, 2112.46], [...|\n",
            "| 32|[[12, 2080.7507],...|\n",
            "| 33|[[48, 2014.7528],...|\n",
            "| 30|[[48, 2014.7528],...|\n",
            "| 36|[[51, 2313.0522],...|\n",
            "+---+--------------------+\n",
            "\n"
          ]
        }
      ]
    },
    {
      "cell_type": "code",
      "metadata": {
        "colab": {
          "base_uri": "https://localhost:8080/"
        },
        "id": "rQJ9gyfg79jE",
        "outputId": "4fd21b83-b750-44ed-c5e2-e70c2b126543"
      },
      "source": [
        "#Evaluate the model using Mean Square Error\n",
        "# hint: predictions = model.transform(????)\n",
        "# hint: evaluator = RegressionEvaluator(?????)\n",
        "# hint: mse = evaluator.evaluate(????)\n",
        "predictions=model.transform(test)\n",
        "evaluator= RegressionEvaluator(metricName=\"mse\",labelCol=\"state_fp\",predictionCol=\"prediction\")\n",
        "mse = evaluator.evaluate(predictions)\n",
        "print(mse)"
      ],
      "execution_count": 15,
      "outputs": [
        {
          "output_type": "stream",
          "name": "stdout",
          "text": [
            "9253.173474341194\n"
          ]
        }
      ]
    },
    {
      "cell_type": "markdown",
      "metadata": {
        "id": "QNQqzy9179jE"
      },
      "source": [
        "## 3 Classification\n",
        "#### This subtask requires you to implement a classification system with Logistic regression. \n",
        "#### You need to include\n",
        "##### • Logistic Regression model training\n",
        "##### • Model evaluation\n"
      ]
    },
    {
      "cell_type": "code",
      "metadata": {
        "id": "JK7vrmNo79jF",
        "colab": {
          "base_uri": "https://localhost:8080/"
        },
        "outputId": "c02a5af8-5521-4bf1-b614-c6f7eef0a3b7"
      },
      "source": [
        "# Logistic Regression\n",
        "# hint: assembler = VectorAssembler().setInputCols([???????,????]).setOutputCol(????)\n",
        "# hint: train_vector = assembler.transform(?????)\n",
        "from pyspark.ml.feature import StringIndexer\n",
        "\n",
        "gender_indexer = StringIndexer(inputCol=\"gender\", outputCol=\"genderIndex\")\n",
        "data = gender_indexer.fit(data).transform(data)\n",
        "\n",
        "race_indexer = StringIndexer(inputCol=\"raceethnicity\", outputCol=\"raceethnicityIndex\")\n",
        "data = race_indexer.fit(data).transform(data)\n",
        "\n",
        "month_indexer = StringIndexer(inputCol=\"month\", outputCol=\"monthIndex\")\n",
        "data = month_indexer.fit(data).transform(data)\n",
        "\n",
        "state_indexer = StringIndexer(inputCol=\"state\", outputCol=\"stateIndex\")\n",
        "data = state_indexer.fit(data).transform(data)\n",
        "\n",
        "data.show()\n"
      ],
      "execution_count": 16,
      "outputs": [
        {
          "output_type": "stream",
          "name": "stdout",
          "text": [
            "+--------------------+---+------+---------------+--------+---+----+--------------------+-----+--------+---------+--------+---------+-----------+-----------+-----------+-----------+------------------+----------+----------+\n",
            "|                name|age|gender|  raceethnicity|   month|day|year|                city|state|state_fp|county_fp|tract_ce|county_id|share_white|share_black|comp_income|genderIndex|raceethnicityIndex|monthIndex|stateIndex|\n",
            "+--------------------+---+------+---------------+--------+---+----+--------------------+-----+--------+---------+--------+---------+-----------+-----------+-----------+-----------+------------------+----------+----------+\n",
            "|  A'donte Washington| 16|  Male|          Black|February| 23|2015|           Millbrook|   AL|       1|       51|   30902|     1051|       60.5|       30.5|0.937935946|        0.0|               2.0|       1.0|       5.0|\n",
            "|      Aaron Rutledge| 27|  Male|          White|   April|  2|2015|           Pineville|   LA|      22|       79|   11700|    22079|       53.8|       36.2|0.683410701|        0.0|               0.0|       2.0|      18.0|\n",
            "|         Aaron Siler| 26|  Male|          White|   March| 14|2015|             Kenosha|   WI|      55|       59|    1200|    55059|       73.8|        7.7|0.825869288|        0.0|               0.0|       0.0|      15.0|\n",
            "|        Aaron Valdez| 25|  Male|Hispanic/Latino|   March| 11|2015|          South Gate|   CA|       6|       37|  535607|     6037|        1.2|        0.6|0.863814413|        0.0|               1.0|       0.0|       0.0|\n",
            "|        Adam Jovicic| 29|  Male|          White|   March| 19|2015|        Munroe Falls|   OH|      39|      153|  530800|    39153|       92.5|        1.4|1.384867825|        0.0|               0.0|       0.0|      13.0|\n",
            "|       Adam Reinhart| 29|  Male|          White|   March|  7|2015|             Phoenix|   AZ|       4|       13|  111602|     4013|        7.0|        7.7|0.388704381|        0.0|               0.0|       0.0|       8.0|\n",
            "|    Adrian Hernandez| 22|  Male|Hispanic/Latino|   March| 27|2015|         Bakersfield|   CA|       6|       29|     700|     6029|       50.8|        0.3|1.195996045|        0.0|               1.0|       0.0|       0.0|\n",
            "|        Adrian Solis| 35|  Male|Hispanic/Latino|   March| 26|2015|          Wilmington|   CA|       6|       37|  294200|     6037|        8.6|        0.2|1.190201935|        0.0|               1.0|       0.0|       0.0|\n",
            "|       Alan Alverson| 44|  Male|          White| January| 28|2015|              Sunset|   TX|      48|       41|     603|    48041|       14.6|       17.7|0.793291569|        0.0|               0.0|       3.0|       2.0|\n",
            "|          Alan James| 31|  Male|          White|February|  7|2015|             Wyoming|   MI|      26|       81|   14200|    26081|       63.6|        7.7|0.862310566|        0.0|               0.0|       1.0|       9.0|\n",
            "|    Albert Hanson Jr| 76|  Male|          White|   April| 26|2015|             Hanford|   CA|       6|       31|    1200|     6031|       51.4|        0.9|1.164793385|        0.0|               0.0|       2.0|       0.0|\n",
            "|      Alec Ouzounian| 40|  Male|          White|     May| 12|2015|Rancho Santa Marg...|   CA|       6|       59|   32049|     6059|       67.3|        0.6|1.556747368|        0.0|               0.0|       4.0|       0.0|\n",
            "|   Alejandro Salazar| 30|  Male|Hispanic/Latino|February| 20|2015|             Houston|   TX|      48|      201|  240702|    48201|        7.5|       32.1|1.008186386|        0.0|               1.0|       1.0|       2.0|\n",
            "|      Alexander Long| 31|  Male|          White|February| 25|2015|        Terre Haute |   IN|      18|      167|    1400|    18167|       83.7|        7.6|1.102354271|        0.0|               0.0|       1.0|       3.0|\n",
            "|     Alexander Myers| 23|  Male|          White|   April|  6|2015|        Indianapolis|   IN|      18|       97|  354200|    18097|       64.0|       23.5|0.938418293|        0.0|               0.0|       2.0|       3.0|\n",
            "|    Alexander Rivera| 39|  Male|Hispanic/Latino|     May| 30|2015|           Nashville|   TN|      47|       37|   15802|    47037|       37.5|       27.0|0.538713426|        0.0|               1.0|       4.0|       4.0|\n",
            "|    Alexia Christian| 25|Female|          Black|   April| 30|2015|             Atlanta|   GA|      13|      121|    3500|    13121|       30.5|       58.4|0.988268815|        1.0|               2.0|       2.0|       1.0|\n",
            "|Alfredo Rials-Torres| 54|  Male|Hispanic/Latino|     May| 19|2015|           Arlington|   VA|      51|       13|  102003|    51013|       52.2|       16.2|0.369399659|        0.0|               1.0|       4.0|      19.0|\n",
            "|         Alice Brown| 24|Female|          White|   March| 17|2015|       San Francisco|   CA|       6|       75|   11100|     6075|       44.8|        6.9|0.818792656|        1.0|               0.0|       0.0|       0.0|\n",
            "|        Alvin Haynes| 57|  Male|          Black| January| 26|2015|       San Francisco|   CA|       6|       81|  614000|     6081|       31.3|        7.5|1.268712728|        0.0|               2.0|       3.0|       0.0|\n",
            "+--------------------+---+------+---------------+--------+---+----+--------------------+-----+--------+---------+--------+---------+-----------+-----------+-----------+-----------+------------------+----------+----------+\n",
            "only showing top 20 rows\n",
            "\n"
          ]
        }
      ]
    },
    {
      "cell_type": "code",
      "metadata": {
        "id": "VLLNTbUjh5Ds"
      },
      "source": [
        "splits = data.randomSplit([0.7, 0.3])\n",
        "train_df = splits[0]\n",
        "test_df = splits[1]"
      ],
      "execution_count": 17,
      "outputs": []
    },
    {
      "cell_type": "code",
      "metadata": {
        "colab": {
          "base_uri": "https://localhost:8080/"
        },
        "id": "GYuevNrZq7c0",
        "outputId": "9133f194-82fd-4e29-f83c-37ce8b98f404"
      },
      "source": [
        "assembler = VectorAssembler().setInputCols([\"raceethnicityIndex\", \"monthIndex\", \"day\", \"stateIndex\"]).setOutputCol(\"feature\")\n",
        "train_vector = assembler.transform(train_df)\n",
        "train_vector.show()"
      ],
      "execution_count": 18,
      "outputs": [
        {
          "output_type": "stream",
          "name": "stdout",
          "text": [
            "+--------------------+---+------+---------------+--------+---+----+-------------+-----+--------+---------+--------+---------+-----------+-----------+-----------+-----------+------------------+----------+----------+-------------------+\n",
            "|                name|age|gender|  raceethnicity|   month|day|year|         city|state|state_fp|county_fp|tract_ce|county_id|share_white|share_black|comp_income|genderIndex|raceethnicityIndex|monthIndex|stateIndex|            feature|\n",
            "+--------------------+---+------+---------------+--------+---+----+-------------+-----+--------+---------+--------+---------+-----------+-----------+-----------+-----------+------------------+----------+----------+-------------------+\n",
            "|  A'donte Washington| 16|  Male|          Black|February| 23|2015|    Millbrook|   AL|       1|       51|   30902|     1051|       60.5|       30.5|0.937935946|        0.0|               2.0|       1.0|       5.0| [2.0,1.0,23.0,5.0]|\n",
            "|      Aaron Rutledge| 27|  Male|          White|   April|  2|2015|    Pineville|   LA|      22|       79|   11700|    22079|       53.8|       36.2|0.683410701|        0.0|               0.0|       2.0|      18.0| [0.0,2.0,2.0,18.0]|\n",
            "|         Aaron Siler| 26|  Male|          White|   March| 14|2015|      Kenosha|   WI|      55|       59|    1200|    55059|       73.8|        7.7|0.825869288|        0.0|               0.0|       0.0|      15.0|[0.0,0.0,14.0,15.0]|\n",
            "|        Adam Jovicic| 29|  Male|          White|   March| 19|2015| Munroe Falls|   OH|      39|      153|  530800|    39153|       92.5|        1.4|1.384867825|        0.0|               0.0|       0.0|      13.0|[0.0,0.0,19.0,13.0]|\n",
            "|       Adam Reinhart| 29|  Male|          White|   March|  7|2015|      Phoenix|   AZ|       4|       13|  111602|     4013|        7.0|        7.7|0.388704381|        0.0|               0.0|       0.0|       8.0|  [0.0,0.0,7.0,8.0]|\n",
            "|        Adrian Solis| 35|  Male|Hispanic/Latino|   March| 26|2015|   Wilmington|   CA|       6|       37|  294200|     6037|        8.6|        0.2|1.190201935|        0.0|               1.0|       0.0|       0.0| [1.0,0.0,26.0,0.0]|\n",
            "|          Alan James| 31|  Male|          White|February|  7|2015|      Wyoming|   MI|      26|       81|   14200|    26081|       63.6|        7.7|0.862310566|        0.0|               0.0|       1.0|       9.0|  [0.0,1.0,7.0,9.0]|\n",
            "|   Alejandro Salazar| 30|  Male|Hispanic/Latino|February| 20|2015|      Houston|   TX|      48|      201|  240702|    48201|        7.5|       32.1|1.008186386|        0.0|               1.0|       1.0|       2.0| [1.0,1.0,20.0,2.0]|\n",
            "|      Alexander Long| 31|  Male|          White|February| 25|2015| Terre Haute |   IN|      18|      167|    1400|    18167|       83.7|        7.6|1.102354271|        0.0|               0.0|       1.0|       3.0| [0.0,1.0,25.0,3.0]|\n",
            "|    Alexander Rivera| 39|  Male|Hispanic/Latino|     May| 30|2015|    Nashville|   TN|      47|       37|   15802|    47037|       37.5|       27.0|0.538713426|        0.0|               1.0|       4.0|       4.0| [1.0,4.0,30.0,4.0]|\n",
            "|    Alexia Christian| 25|Female|          Black|   April| 30|2015|      Atlanta|   GA|      13|      121|    3500|    13121|       30.5|       58.4|0.988268815|        1.0|               2.0|       2.0|       1.0| [2.0,2.0,30.0,1.0]|\n",
            "|Alfredo Rials-Torres| 54|  Male|Hispanic/Latino|     May| 19|2015|    Arlington|   VA|      51|       13|  102003|    51013|       52.2|       16.2|0.369399659|        0.0|               1.0|       4.0|      19.0|[1.0,4.0,19.0,19.0]|\n",
            "|         Alice Brown| 24|Female|          White|   March| 17|2015|San Francisco|   CA|       6|       75|   11100|     6075|       44.8|        6.9|0.818792656|        1.0|               0.0|       0.0|       0.0|     (4,[2],[17.0])|\n",
            "|        Alvin Haynes| 57|  Male|          Black| January| 26|2015|San Francisco|   CA|       6|       81|  614000|     6081|       31.3|        7.5|1.268712728|        0.0|               2.0|       3.0|       0.0| [2.0,3.0,26.0,0.0]|\n",
            "| Amilcar Perez-Lopez| 21|  Male|Hispanic/Latino|February| 26|2015|San Francisco|   CA|       6|       75|   22901|     6075|       28.3|        5.1|0.799944447|        0.0|               1.0|       1.0|       0.0| [1.0,1.0,26.0,0.0]|\n",
            "|     Andre Murphy Sr| 42|  Male|          Black| January|  7|2015|      Norfolk|   NE|      31|      119|  960600|    31119|       92.3|        2.3|1.177017566|        0.0|               2.0|       3.0|      10.0| [2.0,3.0,7.0,10.0]|\n",
            "|       Andrew Driver| 36|  Male|          White|   March| 13|2015|      Fontana|   CA|       6|       71|    3302|     6071|       17.8|        4.4| 0.72384914|        0.0|               0.0|       0.0|       0.0|     (4,[2],[13.0])|\n",
            "|      Andrew Shipley| 49|  Male|          White|   March| 17|2015|      Medford|   OR|      41|       29|     800|    41029|       78.1|        2.2|0.991364618|        0.0|               0.0|       0.0|       7.0| [0.0,0.0,17.0,7.0]|\n",
            "|      Andrew Valadez| 26|  Male|          White|   April| 23|2015|       Sylmar|   CA|       6|       37|  106405|     6037|        7.7|        6.0|0.936235669|        0.0|               0.0|       2.0|       0.0| [0.0,2.0,23.0,0.0]|\n",
            "|     Andrew Williams| 48|  Male|          Black|   March|  6|2015|  Putnam Hall|   FL|      12|      107|  950300|    12107|       86.2|        7.4|1.133766194|        0.0|               2.0|       0.0|      14.0| [2.0,0.0,6.0,14.0]|\n",
            "+--------------------+---+------+---------------+--------+---+----+-------------+-----+--------+---------+--------+---------+-----------+-----------+-----------+-----------+------------------+----------+----------+-------------------+\n",
            "only showing top 20 rows\n",
            "\n"
          ]
        }
      ]
    },
    {
      "cell_type": "code",
      "metadata": {
        "colab": {
          "base_uri": "https://localhost:8080/"
        },
        "id": "i0zUQ_9o6CP_",
        "outputId": "b6af33cd-4d05-4712-f764-2438cfa75627"
      },
      "source": [
        "train_vector = train_vector.select([\"feature\", \"genderIndex\",])\n",
        "train_vector.show()"
      ],
      "execution_count": 19,
      "outputs": [
        {
          "output_type": "stream",
          "name": "stdout",
          "text": [
            "+-------------------+-----------+\n",
            "|            feature|genderIndex|\n",
            "+-------------------+-----------+\n",
            "| [2.0,1.0,23.0,5.0]|        0.0|\n",
            "| [0.0,2.0,2.0,18.0]|        0.0|\n",
            "|[0.0,0.0,14.0,15.0]|        0.0|\n",
            "|[0.0,0.0,19.0,13.0]|        0.0|\n",
            "|  [0.0,0.0,7.0,8.0]|        0.0|\n",
            "| [1.0,0.0,26.0,0.0]|        0.0|\n",
            "|  [0.0,1.0,7.0,9.0]|        0.0|\n",
            "| [1.0,1.0,20.0,2.0]|        0.0|\n",
            "| [0.0,1.0,25.0,3.0]|        0.0|\n",
            "| [1.0,4.0,30.0,4.0]|        0.0|\n",
            "| [2.0,2.0,30.0,1.0]|        1.0|\n",
            "|[1.0,4.0,19.0,19.0]|        0.0|\n",
            "|     (4,[2],[17.0])|        1.0|\n",
            "| [2.0,3.0,26.0,0.0]|        0.0|\n",
            "| [1.0,1.0,26.0,0.0]|        0.0|\n",
            "| [2.0,3.0,7.0,10.0]|        0.0|\n",
            "|     (4,[2],[13.0])|        0.0|\n",
            "| [0.0,0.0,17.0,7.0]|        0.0|\n",
            "| [0.0,2.0,23.0,0.0]|        0.0|\n",
            "| [2.0,0.0,6.0,14.0]|        0.0|\n",
            "+-------------------+-----------+\n",
            "only showing top 20 rows\n",
            "\n"
          ]
        }
      ]
    },
    {
      "cell_type": "code",
      "metadata": {
        "id": "iBWSDRFS79jF"
      },
      "source": [
        "# Create the Logistic Regression Model and train it\n",
        "# hint: lr = LogisticRegression()\n",
        "# hint: lr_model = lr.fit(?????)\n",
        "\n",
        "lr = LogisticRegression(featuresCol='feature',labelCol=\"genderIndex\", maxIter=30)\n",
        "lr_model = lr.fit(train_vector)"
      ],
      "execution_count": 20,
      "outputs": []
    },
    {
      "cell_type": "code",
      "metadata": {
        "id": "rxLR_pGP79jG",
        "colab": {
          "base_uri": "https://localhost:8080/"
        },
        "outputId": "bd6f6d69-39be-4e94-d780-33da7caa2fa2"
      },
      "source": [
        "# Test the model\n",
        "# hint: test_vector = assembler.transform(testing)\n",
        "# hint: test_vector = test_vector.select(\"features\", \"label\")\n",
        "# hint: test_vector = lr_model.transform(test_vector)\n",
        "# hint:\n",
        "\n",
        "test_vector = assembler.transform(test_df)\n",
        "test_vector = lr_model.transform(test_vector)\n",
        "test_vector = test_vector.select(\"prediction\",\"genderIndex\",\"feature\")\n",
        "test_vector.show()"
      ],
      "execution_count": 21,
      "outputs": [
        {
          "output_type": "stream",
          "name": "stdout",
          "text": [
            "+----------+-----------+-------------------+\n",
            "|prediction|genderIndex|            feature|\n",
            "+----------+-----------+-------------------+\n",
            "|       0.0|        0.0| [1.0,0.0,11.0,0.0]|\n",
            "|       0.0|        0.0| [1.0,0.0,27.0,0.0]|\n",
            "|       0.0|        0.0| [0.0,3.0,28.0,2.0]|\n",
            "|       0.0|        0.0| [0.0,2.0,26.0,0.0]|\n",
            "|       0.0|        0.0| [0.0,4.0,12.0,0.0]|\n",
            "|       0.0|        0.0|  [0.0,2.0,6.0,3.0]|\n",
            "|       0.0|        0.0|[1.0,1.0,13.0,11.0]|\n",
            "|       0.0|        0.0|[0.0,2.0,29.0,12.0]|\n",
            "|       0.0|        0.0|[0.0,3.0,21.0,17.0]|\n",
            "|       0.0|        0.0| [2.0,4.0,25.0,5.0]|\n",
            "|       0.0|        0.0|  [0.0,1.0,3.0,1.0]|\n",
            "|       0.0|        0.0| [1.0,0.0,12.0,0.0]|\n",
            "+----------+-----------+-------------------+\n",
            "\n"
          ]
        }
      ]
    },
    {
      "cell_type": "code",
      "metadata": {
        "id": "qh_F679p79jG",
        "colab": {
          "base_uri": "https://localhost:8080/"
        },
        "outputId": "6c407394-eaa6-4883-b66c-f38b8b82ac91"
      },
      "source": [
        "# Model Evaluation using Root Mean Square Error (RMSE)\n",
        "# hint: rmse_test = evaluator.evaluate(?????, {evaluator.metricName: \"rmse\"})\n",
        "# hint: rmse_train = evaluator.evaluate(?????, {evaluator.metricName: \"rmse\"})\n",
        "#print(\"RMSE for Test:\",rmse_test)\n",
        "#print(\"RMSE for Train:\",rmse_train)\n",
        "\n",
        "lr_evaluator = RegressionEvaluator(predictionCol=\"prediction\", labelCol=\"genderIndex\",metricName=\"rmse\")\n",
        "rmse_test = lr_evaluator.evaluate(test_vector)\n",
        "\n",
        "print(\"RMSE for Test:\",rmse_test)"
      ],
      "execution_count": 22,
      "outputs": [
        {
          "output_type": "stream",
          "name": "stdout",
          "text": [
            "RMSE for Test: 0.0\n"
          ]
        }
      ]
    },
    {
      "cell_type": "markdown",
      "metadata": {
        "id": "Inodh_mrBVN_"
      },
      "source": [
        "## Shut down SparkContext when exiting\n",
        "\n",
        "If you have error messages related to sparkContext, try to run the following cell, and then rerun all cells."
      ]
    },
    {
      "cell_type": "code",
      "metadata": {
        "id": "8IRm1qMaBVN_"
      },
      "source": [
        "sc.stop()"
      ],
      "execution_count": 23,
      "outputs": []
    }
  ]
}